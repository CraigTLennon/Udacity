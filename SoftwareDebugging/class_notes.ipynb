{
 "cells": [
  {
   "cell_type": "markdown",
   "metadata": {},
   "source": [
    "# Lesson 1"
   ]
  },
  {
   "cell_type": "markdown",
   "metadata": {},
   "source": [
    "The assert statement evaluates an epression and raises an exception if false"
   ]
  },
  {
   "cell_type": "code",
   "execution_count": 5,
   "metadata": {
    "collapsed": false
   },
   "outputs": [],
   "source": [
    "#Example\n",
    "for j in range(9):\n",
    "    assert j<5\n",
    "    print(j)\n"
   ]
  },
  {
   "cell_type": "markdown",
   "metadata": {},
   "source": [
    "# Lesson 2"
   ]
  },
  {
   "cell_type": "raw",
   "metadata": {
    "collapsed": true
   },
   "source": [
    "Suggests using pre and post condition assertions.  Example:"
   ]
  },
  {
   "cell_type": "code",
   "execution_count": 13,
   "metadata": {
    "collapsed": true
   },
   "outputs": [],
   "source": [
    "def sqrt(x,eps=.0000001):\n",
    "    assert x>=0\n",
    "    y=math.sqrt(x)\n",
    "    assert abs(y-x**2)<eps\n",
    "    return y"
   ]
  },
  {
   "cell_type": "markdown",
   "metadata": {},
   "source": [
    "Checking to make sure data is reasonable for a class"
   ]
  },
  {
   "cell_type": "code",
   "execution_count": 15,
   "metadata": {
    "collapsed": false
   },
   "outputs": [
    {
     "ename": "AssertionError",
     "evalue": "",
     "output_type": "error",
     "traceback": [
      "\u001b[0;31m---------------------------------------------------------------------------\u001b[0m",
      "\u001b[0;31mAssertionError\u001b[0m                            Traceback (most recent call last)",
      "\u001b[0;32m<ipython-input-15-cc118fdb4bcb>\u001b[0m in \u001b[0;36m<module>\u001b[0;34m()\u001b[0m\n\u001b[1;32m     19\u001b[0m         return \"{:02d}:{:02d}:{:02d}\".format( #this will put 2 digits from the following data into the preceeding string\n\u001b[1;32m     20\u001b[0m             self.hours(),self.minutes,self.seconds())\n\u001b[0;32m---> 21\u001b[0;31m \u001b[0mt\u001b[0m\u001b[1;33m=\u001b[0m\u001b[0mTime\u001b[0m\u001b[1;33m(\u001b[0m\u001b[1;36m45\u001b[0m\u001b[1;33m,\u001b[0m\u001b[1;36m55\u001b[0m\u001b[1;33m,\u001b[0m\u001b[1;36m12\u001b[0m\u001b[1;33m)\u001b[0m\u001b[1;33m\u001b[0m\u001b[0m\n\u001b[0m",
      "\u001b[0;32m<ipython-input-15-cc118fdb4bcb>\u001b[0m in \u001b[0;36m__init__\u001b[0;34m(self, h, m, s)\u001b[0m\n\u001b[1;32m      2\u001b[0m \u001b[1;33m\u001b[0m\u001b[0m\n\u001b[1;32m      3\u001b[0m     \u001b[1;32mdef\u001b[0m \u001b[0m__init__\u001b[0m\u001b[1;33m(\u001b[0m\u001b[0mself\u001b[0m\u001b[1;33m,\u001b[0m \u001b[0mh\u001b[0m\u001b[1;33m=\u001b[0m\u001b[1;36m0\u001b[0m\u001b[1;33m,\u001b[0m\u001b[0mm\u001b[0m\u001b[1;33m=\u001b[0m\u001b[1;36m0\u001b[0m\u001b[1;33m,\u001b[0m\u001b[0ms\u001b[0m\u001b[1;33m=\u001b[0m\u001b[1;36m0\u001b[0m\u001b[1;33m)\u001b[0m\u001b[1;33m:\u001b[0m\u001b[1;33m\u001b[0m\u001b[0m\n\u001b[0;32m----> 4\u001b[0;31m         \u001b[1;32massert\u001b[0m \u001b[1;36m0\u001b[0m\u001b[1;33m<=\u001b[0m\u001b[0mh\u001b[0m\u001b[1;33m<=\u001b[0m\u001b[1;36m23\u001b[0m\u001b[1;33m\u001b[0m\u001b[0m\n\u001b[0m\u001b[1;32m      5\u001b[0m         \u001b[1;32massert\u001b[0m \u001b[1;36m0\u001b[0m\u001b[1;33m<=\u001b[0m\u001b[0mm\u001b[0m\u001b[1;33m<=\u001b[0m\u001b[1;36m59\u001b[0m\u001b[1;33m\u001b[0m\u001b[0m\n\u001b[1;32m      6\u001b[0m         \u001b[1;32massert\u001b[0m \u001b[1;36m0\u001b[0m\u001b[1;33m<=\u001b[0m\u001b[0ms\u001b[0m\u001b[1;33m<=\u001b[0m\u001b[1;36m59\u001b[0m  \u001b[1;31m#note there must be a way to tie this into the api process to make it all easier, but\u001b[0m\u001b[1;33m\u001b[0m\u001b[0m\n",
      "\u001b[0;31mAssertionError\u001b[0m: "
     ]
    }
   ],
   "source": [
    "class Time:\n",
    "    \n",
    "    def __init__(self, h=0,m=0,s=0):\n",
    "        assert 0<=h<=23\n",
    "        assert 0<=m<=59\n",
    "        assert 0<=s<=59  #note there must be a way to tie this into the api process to make doc and test simul., but \n",
    "        #this format is just for debugging I guess\n",
    "        \n",
    "        self.hours=h\n",
    "        self.minutes=m\n",
    "        self.seconds=s\n",
    "    def hours(self):\n",
    "        return self.hours\n",
    "    def minutes(self):\n",
    "        return self.minutes\n",
    "    def seconds(self):\n",
    "        return self.minutes\n",
    "    def __repr__(self): #the string representation python will print out\n",
    "        return \"{:02d}:{:02d}:{:02d}\".format( #this will put 2 digits from the following data into the preceeding string\n",
    "            self.hours(),self.minutes,self.seconds())\n",
    "t=Time(45,55,12)   "
   ]
  },
  {
   "cell_type": "markdown",
   "metadata": {},
   "source": [
    "    Invariant:  a condition that always holds for a data object (true at beginning and end of every public method).  To do this we can write a function for checking the invariant, which would contain all the asserts (for example)."
   ]
  },
  {
   "cell_type": "markdown",
   "metadata": {},
   "source": [
    "def checkRep(self):\n",
    "    all the hour, minute, seconds asserts"
   ]
  },
  {
   "cell_type": "markdown",
   "metadata": {},
   "source": [
    "In programming language Eiffel, invariants are built in, if you happen to use that."
   ]
  },
  {
   "cell_type": "markdown",
   "metadata": {},
   "source": [
    "Assertions can be turned off if they take too much time\n",
    " python -O option, c/c++ -DNDEBUG option, java -ea turns them on (off ow)\n",
    " Assertiong must not change program behavior since they can be turned off"
   ]
  },
  {
   "cell_type": "markdown",
   "metadata": {},
   "source": [
    "This also means you cannot use assertions to check public preconditions (answers my question above)"
   ]
  },
  {
   "cell_type": "code",
   "execution_count": 30,
   "metadata": {
    "collapsed": true
   },
   "outputs": [],
   "source": [
    "def bankDeposit(deposit):\n",
    "    assert deposit >=0 #this will be turned off.\n",
    "    if deposit<0:\n",
    "        raise IllegalDataException #use this instead"
   ]
  },
  {
   "cell_type": "markdown",
   "metadata": {},
   "source": [
    "Another option is to raise AssertionException, which cannot be turned off and will document what went wrong"
   ]
  },
  {
   "cell_type": "markdown",
   "metadata": {},
   "source": [
    "Consider the case of a global flag, put in to make sure a property holds throughout execution, to chekc system invariants.  This can be done with sys.settrace which will execute a given function after every single line in your program"
   ]
  },
  {
   "cell_type": "code",
   "execution_count": 31,
   "metadata": {
    "collapsed": true
   },
   "outputs": [],
   "source": [
    "def traceit(frame, env, args):\n",
    "    global flag\n",
    "    assert not flag\n",
    "    return traceit\n",
    "#some trace may need to be turned off while the monitored subject is executing, \n",
    "#since it may internally violate invariance while changing itself"
   ]
  },
  {
   "cell_type": "markdown",
   "metadata": {},
   "source": [
    "In many languages it is uncommon to have every part of a function access a global resource, but in C/C++ all memory can be accessed.  Buffe overflows, for example when you write outside your array.  There are tools to prevent this (e.g. electric fence, valgrind)"
   ]
  },
  {
   "cell_type": "markdown",
   "metadata": {},
   "source": [
    "With assertions, start with data invariants, then preconditions, then postconditions.  First two are easier than the third.  IN C/C++ run a system invarienat checker (valgrind)"
   ]
  },
  {
   "cell_type": "markdown",
   "metadata": {},
   "source": [
    "Tools exist for inferring invariants.  Daikon dynamically detects invariants"
   ]
  },
  {
   "cell_type": "markdown",
   "metadata": {},
   "source": [
    "Interesting discovery in an assignment, that you can compare just about anything in python 2 with <, but not in python 3"
   ]
  },
  {
   "cell_type": "markdown",
   "metadata": {},
   "source": [
    "The delta debugging method is intended tp produce a minimal amount of code that will replicate an error.  For bug reporting.\n"
   ]
  },
  {
   "cell_type": "markdown",
   "metadata": {},
   "source": [
    "Fuzz testing is the practice of generating random output (e.g. ASCII) for input into a function, to find bugs in the function, either for testing or security"
   ]
  },
  {
   "cell_type": "markdown",
   "metadata": {
    "collapsed": true
   },
   "source": [
    "Slices are pieces of code linked by data or control dependencies.  A slice based on S if forward if if contains everything S could affect, backward if it contains everthing that could affect S, and dynamic if it contains everthing which appears to affect S in either direction in an actual run of code, which can be tracked by trace.  It includes only code that is executed"
   ]
  },
  {
   "cell_type": "code",
   "execution_count": null,
   "metadata": {
    "collapsed": true
   },
   "outputs": [],
   "source": []
  }
 ],
 "metadata": {
  "kernelspec": {
   "display_name": "Python 3",
   "language": "python",
   "name": "python3"
  },
  "language_info": {
   "codemirror_mode": {
    "name": "ipython",
    "version": 3
   },
   "file_extension": ".py",
   "mimetype": "text/x-python",
   "name": "python",
   "nbconvert_exporter": "python",
   "pygments_lexer": "ipython3",
   "version": "3.6.0"
  }
 },
 "nbformat": 4,
 "nbformat_minor": 2
}
